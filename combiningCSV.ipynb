{
 "cells": [
  {
   "cell_type": "code",
   "execution_count": 16,
   "metadata": {},
   "outputs": [],
   "source": [
    "# For division\n",
    "from __future__ import division\n",
    "#Let's go ahead and start with some imports\n",
    "import pandas as pd\n",
    "from pandas import Series,DataFrame\n",
    "import numpy as np\n",
    "\n",
    "# For Visualization\n",
    "import matplotlib.pyplot as plt\n",
    "import seaborn as sns\n",
    "sns.set_style('whitegrid')\n",
    "%matplotlib inline\n",
    "\n",
    "\n",
    "# For reading stock data from yahoo\n",
    "\n",
    "from pandas_datareader.data import DataReader\n",
    "# For time stamps\n",
    "from datetime import datetime\n",
    "\n",
    "from past.builtins import xrange\n",
    "\n",
    "import glob\n",
    "import os\n"
   ]
  },
  {
   "cell_type": "code",
   "execution_count": 17,
   "metadata": {},
   "outputs": [],
   "source": [
    "# the path to your csv file directory\n",
    "mycsvdir =  'C:/Users/sonia/Desktop/stocks' "
   ]
  },
  {
   "cell_type": "code",
   "execution_count": 18,
   "metadata": {},
   "outputs": [],
   "source": [
    "# get all the csv files in that directory (assuming they have the extension .csv)\n",
    "csvfiles = glob.glob(os.path.join( 'C:/Users/sonia/Desktop/stocks/d' , '*.csv'))"
   ]
  },
  {
   "cell_type": "code",
   "execution_count": 19,
   "metadata": {},
   "outputs": [],
   "source": [
    "# loop through the files and read them in with pandas\n",
    "stock_list = []  # a list to hold all the individual pandas DataFrames\n",
    "for csvfile in csvfiles:\n",
    "    df = pd.read_csv(csvfile)\n",
    "    stock_list.append(df)"
   ]
  },
  {
   "cell_type": "code",
   "execution_count": 20,
   "metadata": {},
   "outputs": [],
   "source": [
    "# concatenate them all together\n",
    "result = pd.concat(stock_list, ignore_index=True, sort=True)"
   ]
  },
  {
   "cell_type": "code",
   "execution_count": 21,
   "metadata": {},
   "outputs": [],
   "source": [
    "# print out to a new csv file\n",
    "result.to_csv('new.csv', index=False)"
   ]
  },
  {
   "cell_type": "code",
   "execution_count": 7,
   "metadata": {},
   "outputs": [],
   "source": [
    "result.to_csv('coins20.csv', index=False)"
   ]
  },
  {
   "cell_type": "code",
   "execution_count": 8,
   "metadata": {},
   "outputs": [
    {
     "name": "stdout",
     "output_type": "stream",
     "text": [
      "<class 'pandas.core.frame.DataFrame'>\n",
      "RangeIndex: 1245 entries, 0 to 1244\n",
      "Data columns (total 7 columns):\n",
      "Date         1245 non-null object\n",
      "High         1245 non-null float64\n",
      "Low          1245 non-null float64\n",
      "Open         1245 non-null float64\n",
      "Close        1245 non-null float64\n",
      "Volume       1245 non-null float64\n",
      "Adj Close    1245 non-null float64\n",
      "dtypes: float64(6), object(1)\n",
      "memory usage: 68.2+ KB\n"
     ]
    }
   ],
   "source": [
    "df.info()"
   ]
  },
  {
   "cell_type": "code",
   "execution_count": 16,
   "metadata": {
    "scrolled": true
   },
   "outputs": [
    {
     "data": {
      "text/html": [
       "<div>\n",
       "<style scoped>\n",
       "    .dataframe tbody tr th:only-of-type {\n",
       "        vertical-align: middle;\n",
       "    }\n",
       "\n",
       "    .dataframe tbody tr th {\n",
       "        vertical-align: top;\n",
       "    }\n",
       "\n",
       "    .dataframe thead th {\n",
       "        text-align: right;\n",
       "    }\n",
       "</style>\n",
       "<table border=\"1\" class=\"dataframe\">\n",
       "  <thead>\n",
       "    <tr style=\"text-align: right;\">\n",
       "      <th></th>\n",
       "      <th>Adj Close</th>\n",
       "      <th>Close</th>\n",
       "      <th>Date</th>\n",
       "      <th>High</th>\n",
       "      <th>Low</th>\n",
       "      <th>Open</th>\n",
       "      <th>StockName</th>\n",
       "      <th>Symbol</th>\n",
       "      <th>Volume</th>\n",
       "    </tr>\n",
       "  </thead>\n",
       "  <tbody>\n",
       "    <tr>\n",
       "      <th>175015</th>\n",
       "      <td>18.540001</td>\n",
       "      <td>18.540001</td>\n",
       "      <td>2020-04-09</td>\n",
       "      <td>18.700001</td>\n",
       "      <td>17.750000</td>\n",
       "      <td>18.120001</td>\n",
       "      <td>NaN</td>\n",
       "      <td>NaN</td>\n",
       "      <td>7453700.0</td>\n",
       "    </tr>\n",
       "    <tr>\n",
       "      <th>175016</th>\n",
       "      <td>19.150000</td>\n",
       "      <td>19.150000</td>\n",
       "      <td>2020-04-13</td>\n",
       "      <td>19.400000</td>\n",
       "      <td>18.600000</td>\n",
       "      <td>18.799999</td>\n",
       "      <td>NaN</td>\n",
       "      <td>NaN</td>\n",
       "      <td>12605827.0</td>\n",
       "    </tr>\n",
       "    <tr>\n",
       "      <th>175017</th>\n",
       "      <td>19.600000</td>\n",
       "      <td>19.600000</td>\n",
       "      <td>2020-04-14</td>\n",
       "      <td>19.955000</td>\n",
       "      <td>19.160000</td>\n",
       "      <td>19.160000</td>\n",
       "      <td>NaN</td>\n",
       "      <td>NaN</td>\n",
       "      <td>10318698.0</td>\n",
       "    </tr>\n",
       "    <tr>\n",
       "      <th>175018</th>\n",
       "      <td>21.580000</td>\n",
       "      <td>21.580000</td>\n",
       "      <td>2020-04-15</td>\n",
       "      <td>21.900000</td>\n",
       "      <td>19.600000</td>\n",
       "      <td>20.299999</td>\n",
       "      <td>NaN</td>\n",
       "      <td>NaN</td>\n",
       "      <td>25538593.0</td>\n",
       "    </tr>\n",
       "    <tr>\n",
       "      <th>175019</th>\n",
       "      <td>22.389999</td>\n",
       "      <td>22.389999</td>\n",
       "      <td>2020-04-16</td>\n",
       "      <td>22.410000</td>\n",
       "      <td>21.559999</td>\n",
       "      <td>21.799999</td>\n",
       "      <td>NaN</td>\n",
       "      <td>NaN</td>\n",
       "      <td>40376210.0</td>\n",
       "    </tr>\n",
       "  </tbody>\n",
       "</table>\n",
       "</div>"
      ],
      "text/plain": [
       "        Adj Close      Close        Date       High        Low       Open  \\\n",
       "175015  18.540001  18.540001  2020-04-09  18.700001  17.750000  18.120001   \n",
       "175016  19.150000  19.150000  2020-04-13  19.400000  18.600000  18.799999   \n",
       "175017  19.600000  19.600000  2020-04-14  19.955000  19.160000  19.160000   \n",
       "175018  21.580000  21.580000  2020-04-15  21.900000  19.600000  20.299999   \n",
       "175019  22.389999  22.389999  2020-04-16  22.410000  21.559999  21.799999   \n",
       "\n",
       "       StockName Symbol      Volume  \n",
       "175015       NaN    NaN   7453700.0  \n",
       "175016       NaN    NaN  12605827.0  \n",
       "175017       NaN    NaN  10318698.0  \n",
       "175018       NaN    NaN  25538593.0  \n",
       "175019       NaN    NaN  40376210.0  "
      ]
     },
     "execution_count": 16,
     "metadata": {},
     "output_type": "execute_result"
    }
   ],
   "source": [
    "# reading the csv file as a dataframe\n",
    "df = pd.read_csv(\"C:/Users/sonia/Desktop/stocks/stocks.csv\")\n",
    "df.tail()"
   ]
  },
  {
   "cell_type": "code",
   "execution_count": 17,
   "metadata": {},
   "outputs": [
    {
     "data": {
      "text/plain": [
       "Adj Close        0\n",
       "Close            0\n",
       "Date             0\n",
       "High             0\n",
       "Low              0\n",
       "Open             0\n",
       "StockName    21867\n",
       "Symbol       21867\n",
       "Volume           0\n",
       "dtype: int64"
      ]
     },
     "execution_count": 17,
     "metadata": {},
     "output_type": "execute_result"
    }
   ],
   "source": [
    "df.isnull().sum()"
   ]
  },
  {
   "cell_type": "code",
   "execution_count": 18,
   "metadata": {},
   "outputs": [
    {
     "data": {
      "text/html": [
       "<div>\n",
       "<style scoped>\n",
       "    .dataframe tbody tr th:only-of-type {\n",
       "        vertical-align: middle;\n",
       "    }\n",
       "\n",
       "    .dataframe tbody tr th {\n",
       "        vertical-align: top;\n",
       "    }\n",
       "\n",
       "    .dataframe thead th {\n",
       "        text-align: right;\n",
       "    }\n",
       "</style>\n",
       "<table border=\"1\" class=\"dataframe\">\n",
       "  <thead>\n",
       "    <tr style=\"text-align: right;\">\n",
       "      <th></th>\n",
       "      <th>Adj Close</th>\n",
       "      <th>Close</th>\n",
       "      <th>High</th>\n",
       "      <th>Low</th>\n",
       "      <th>Open</th>\n",
       "      <th>Volume</th>\n",
       "    </tr>\n",
       "  </thead>\n",
       "  <tbody>\n",
       "    <tr>\n",
       "      <th>count</th>\n",
       "      <td>175020.000000</td>\n",
       "      <td>175020.000000</td>\n",
       "      <td>175020.000000</td>\n",
       "      <td>175020.000000</td>\n",
       "      <td>175020.000000</td>\n",
       "      <td>1.750200e+05</td>\n",
       "    </tr>\n",
       "    <tr>\n",
       "      <th>mean</th>\n",
       "      <td>24.002790</td>\n",
       "      <td>28.073825</td>\n",
       "      <td>28.460684</td>\n",
       "      <td>27.697333</td>\n",
       "      <td>28.096539</td>\n",
       "      <td>1.196995e+07</td>\n",
       "    </tr>\n",
       "    <tr>\n",
       "      <th>std</th>\n",
       "      <td>18.416063</td>\n",
       "      <td>22.834718</td>\n",
       "      <td>22.998534</td>\n",
       "      <td>22.656155</td>\n",
       "      <td>22.838597</td>\n",
       "      <td>1.396444e+07</td>\n",
       "    </tr>\n",
       "    <tr>\n",
       "      <th>min</th>\n",
       "      <td>2.823925</td>\n",
       "      <td>2.900000</td>\n",
       "      <td>2.970000</td>\n",
       "      <td>2.710000</td>\n",
       "      <td>2.880000</td>\n",
       "      <td>3.560000e+04</td>\n",
       "    </tr>\n",
       "    <tr>\n",
       "      <th>25%</th>\n",
       "      <td>12.845328</td>\n",
       "      <td>13.770000</td>\n",
       "      <td>14.070000</td>\n",
       "      <td>13.530000</td>\n",
       "      <td>13.830000</td>\n",
       "      <td>3.357400e+06</td>\n",
       "    </tr>\n",
       "    <tr>\n",
       "      <th>50%</th>\n",
       "      <td>16.217512</td>\n",
       "      <td>18.170000</td>\n",
       "      <td>18.490000</td>\n",
       "      <td>17.930000</td>\n",
       "      <td>18.160000</td>\n",
       "      <td>7.621200e+06</td>\n",
       "    </tr>\n",
       "    <tr>\n",
       "      <th>75%</th>\n",
       "      <td>23.724487</td>\n",
       "      <td>30.410000</td>\n",
       "      <td>30.990000</td>\n",
       "      <td>29.950001</td>\n",
       "      <td>30.469999</td>\n",
       "      <td>1.574510e+07</td>\n",
       "    </tr>\n",
       "    <tr>\n",
       "      <th>max</th>\n",
       "      <td>76.596581</td>\n",
       "      <td>100.778481</td>\n",
       "      <td>101.209610</td>\n",
       "      <td>99.772514</td>\n",
       "      <td>100.950935</td>\n",
       "      <td>2.739966e+08</td>\n",
       "    </tr>\n",
       "  </tbody>\n",
       "</table>\n",
       "</div>"
      ],
      "text/plain": [
       "           Adj Close          Close           High            Low  \\\n",
       "count  175020.000000  175020.000000  175020.000000  175020.000000   \n",
       "mean       24.002790      28.073825      28.460684      27.697333   \n",
       "std        18.416063      22.834718      22.998534      22.656155   \n",
       "min         2.823925       2.900000       2.970000       2.710000   \n",
       "25%        12.845328      13.770000      14.070000      13.530000   \n",
       "50%        16.217512      18.170000      18.490000      17.930000   \n",
       "75%        23.724487      30.410000      30.990000      29.950001   \n",
       "max        76.596581     100.778481     101.209610      99.772514   \n",
       "\n",
       "                Open        Volume  \n",
       "count  175020.000000  1.750200e+05  \n",
       "mean       28.096539  1.196995e+07  \n",
       "std        22.838597  1.396444e+07  \n",
       "min         2.880000  3.560000e+04  \n",
       "25%        13.830000  3.357400e+06  \n",
       "50%        18.160000  7.621200e+06  \n",
       "75%        30.469999  1.574510e+07  \n",
       "max       100.950935  2.739966e+08  "
      ]
     },
     "execution_count": 18,
     "metadata": {},
     "output_type": "execute_result"
    }
   ],
   "source": [
    "# Summary Stats\n",
    "df.describe()"
   ]
  },
  {
   "cell_type": "code",
   "execution_count": 11,
   "metadata": {},
   "outputs": [
    {
     "data": {
      "text/plain": [
       "<matplotlib.axes._subplots.AxesSubplot at 0x2ae24a06248>"
      ]
     },
     "execution_count": 11,
     "metadata": {},
     "output_type": "execute_result"
    },
    {
     "data": {
      "image/png": "[encoded data removed]",
      "text/plain": [
       "<Figure size 720x288 with 1 Axes>"
      ]
     },
     "metadata": {
      "needs_background": "light"
     },
     "output_type": "display_data"
    }
   ],
   "source": [
    "# looking at the historical view of the closing price\n",
    "df['Adj Close'].plot(legend=True,figsize=(10,4))"
   ]
  },
  {
   "cell_type": "code",
   "execution_count": 12,
   "metadata": {},
   "outputs": [
    {
     "name": "stdout",
     "output_type": "stream",
     "text": [
      "<class 'pandas.core.frame.DataFrame'>\n",
      "RangeIndex: 21879 entries, 0 to 21878\n",
      "Data columns (total 9 columns):\n",
      "Adj Close    21879 non-null float64\n",
      "Close        21879 non-null float64\n",
      "Date         21879 non-null object\n",
      "High         21879 non-null float64\n",
      "Low          21879 non-null float64\n",
      "Open         21879 non-null float64\n",
      "StockName    21879 non-null object\n",
      "Symbol       21879 non-null object\n",
      "Volume       21879 non-null int64\n",
      "dtypes: float64(5), int64(1), object(3)\n",
      "memory usage: 1.5+ MB\n"
     ]
    }
   ],
   "source": [
    "df.info()"
   ]
  },
  {
   "cell_type": "code",
   "execution_count": null,
   "metadata": {},
   "outputs": [],
   "source": []
  }
 ],
 "metadata": {
  "kernelspec": {
   "display_name": "Python 3",
   "language": "python",
   "name": "python3"
  },
  "language_info": {
   "codemirror_mode": {
    "name": "ipython",
    "version": 3
   },
   "file_extension": ".py",
   "mimetype": "text/x-python",
   "name": "python",
   "nbconvert_exporter": "python",
   "pygments_lexer": "ipython3",
   "version": "3.7.4"
  }
 },
 "nbformat": 4,
 "nbformat_minor": 2
}
